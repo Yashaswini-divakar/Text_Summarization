{
 "cells": [
  {
   "cell_type": "code",
   "execution_count": 123,
   "id": "cc4d65be-080a-4193-9ce6-04cc901ee7a0",
   "metadata": {},
   "outputs": [
    {
     "name": "stderr",
     "output_type": "stream",
     "text": [
      "[nltk_data] Downloading package punkt_tab to\n",
      "[nltk_data]     C:\\Users\\yashu\\AppData\\Roaming\\nltk_data...\n",
      "[nltk_data]   Package punkt_tab is already up-to-date!\n"
     ]
    }
   ],
   "source": [
    "import numpy as np \n",
    "import pandas as pd \n",
    "import nltk         ## for text\n",
    "import re           ## regular expression\n",
    "from nltk.corpus import stopwords\n",
    "from nltk.tokenize import sent_tokenize\n",
    "from nltk.stem.porter import PorterStemmer  ## it converts the word into its base form\n",
    "## Dataset\n",
    "from sklearn.metrics.pairwise import cosine_similarity\n",
    "from nltk.tokenize import sent_tokenize\n",
    "import networkx as nx\n",
    "\n",
    "from nltk.tokenize import sent_tokenize\n",
    "nltk.download('punkt_tab')\n",
    "\n",
    "df = pd.read_csv(\"C:/Users/yashu/Downloads/Telegram Desktop/25_Projects/ML/Text Summarization(Medium)/tennis.csv\")\n",
    "df['article_text'][0]\n",
    "from nltk.corpus import stopwords\n"
   ]
  },
  {
   "cell_type": "markdown",
   "id": "4d6903c8-9a3a-43a6-8983-82985fc6564d",
   "metadata": {},
   "source": [
    "#### Removing Stopwords"
   ]
  },
  {
   "cell_type": "code",
   "execution_count": 126,
   "id": "606f8970-c92c-4838-94ba-3d0960763418",
   "metadata": {},
   "outputs": [
    {
     "name": "stderr",
     "output_type": "stream",
     "text": [
      "[nltk_data] Downloading package stopwords to\n",
      "[nltk_data]     C:\\Users\\yashu\\AppData\\Roaming\\nltk_data...\n",
      "[nltk_data]   Package stopwords is already up-to-date!\n"
     ]
    }
   ],
   "source": [
    "import nltk\n",
    "nltk.download('stopwords')\n",
    "from nltk.corpus import stopwords\n"
   ]
  },
  {
   "cell_type": "code",
   "execution_count": 128,
   "id": "419ba270-fce6-4cb2-a95a-aa270d2b4343",
   "metadata": {},
   "outputs": [
    {
     "name": "stdout",
     "output_type": "stream",
     "text": [
      "['a', 'about', 'above', 'after', 'again', 'against', 'ain', 'all', 'am', 'an', 'and', 'any', 'are', 'aren', \"aren't\", 'as', 'at', 'be', 'because', 'been', 'before', 'being', 'below', 'between', 'both', 'but', 'by', 'can', 'couldn', \"couldn't\", 'd', 'did', 'didn', \"didn't\", 'do', 'does', 'doesn', \"doesn't\", 'doing', 'don', \"don't\", 'down', 'during', 'each', 'few', 'for', 'from', 'further', 'had', 'hadn', \"hadn't\", 'has', 'hasn', \"hasn't\", 'have', 'haven', \"haven't\", 'having', 'he', \"he'd\", \"he'll\", 'her', 'here', 'hers', 'herself', \"he's\", 'him', 'himself', 'his', 'how', 'i', \"i'd\", 'if', \"i'll\", \"i'm\", 'in', 'into', 'is', 'isn', \"isn't\", 'it', \"it'd\", \"it'll\", \"it's\", 'its', 'itself', \"i've\", 'just', 'll', 'm', 'ma', 'me', 'mightn', \"mightn't\", 'more', 'most', 'mustn', \"mustn't\", 'my', 'myself', 'needn', \"needn't\", 'no', 'nor', 'not', 'now', 'o', 'of', 'off', 'on', 'once', 'only', 'or', 'other', 'our', 'ours', 'ourselves', 'out', 'over', 'own', 're', 's', 'same', 'shan', \"shan't\", 'she', \"she'd\", \"she'll\", \"she's\", 'should', 'shouldn', \"shouldn't\", \"should've\", 'so', 'some', 'such', 't', 'than', 'that', \"that'll\", 'the', 'their', 'theirs', 'them', 'themselves', 'then', 'there', 'these', 'they', \"they'd\", \"they'll\", \"they're\", \"they've\", 'this', 'those', 'through', 'to', 'too', 'under', 'until', 'up', 've', 'very', 'was', 'wasn', \"wasn't\", 'we', \"we'd\", \"we'll\", \"we're\", 'were', 'weren', \"weren't\", \"we've\", 'what', 'when', 'where', 'which', 'while', 'who', 'whom', 'why', 'will', 'with', 'won', \"won't\", 'wouldn', \"wouldn't\", 'y', 'you', \"you'd\", \"you'll\", 'your', \"you're\", 'yours', 'yourself', 'yourselves', \"you've\"]\n"
     ]
    }
   ],
   "source": [
    "# initialize stop words\n",
    "stop_words = stopwords.words('english')\n",
    "print(stop_words)"
   ]
  },
  {
   "cell_type": "code",
   "execution_count": 186,
   "id": "d24b55f8-b498-49b9-9683-56565bbfe647",
   "metadata": {},
   "outputs": [],
   "source": [
    "# removing the stop words from a given sentence\n",
    "def remove_stopwords(sen):\n",
    "    new_sen = \" \".join([i for i in sen if i not in stop_words])\n",
    "    #print(new_sen)\n",
    "    return new_sen"
   ]
  },
  {
   "cell_type": "code",
   "execution_count": 188,
   "id": "cd05aa5e-2a61-4cf2-be28-ec3636602881",
   "metadata": {},
   "outputs": [
    {
     "name": "stdout",
     "output_type": "stream",
     "text": [
      "['maria good girl']\n"
     ]
    }
   ],
   "source": [
    "z = []\n",
    "x = ['maria', 'is', 'a', 'good', 'girl']\n",
    "z.append(remove_stopwords(x))\n",
    "print(z)"
   ]
  },
  {
   "cell_type": "code",
   "execution_count": 236,
   "id": "d68eb959-3272-4153-a380-2641fcea4e70",
   "metadata": {},
   "outputs": [
    {
     "name": "stdout",
     "output_type": "stream",
     "text": [
      "[(0.058823529411764705, 'When she said she is not really close to a lot of players, is that something strategic that she is doing?'), (0.058823529411764705, \"When I'm on the courts or when I'm on the court playing, I'm a competitor and I want to beat every single person whether they're in the locker room or across the net.So I'm not the one to strike up a conversation about the weather and know that in the next few minutes I have to go and try to win a tennis match.\"), (0.058823529411764705, \"Uhm, I'm not really friendly or close to many players.\"), (0.058823529411764705, \"There are so many other things that we're interested in, that we do.'\"), (0.058823529411764705, \"The Russian player has no problems in openly speaking about it and in a recent interview she said: 'I don't really hide any feelings too much.\"), (0.058823529411764705, 'Maria Sharapova has basically no friends as tennis players on the WTA Tour.'), (0.058823529411764705, \"Is it different on the men's tour than the women's tour?\"), (0.058823529411764705, \"I'm a pretty competitive girl.\"), (0.058823529411764705, \"I think just because you're in the same sport doesn't mean that you have to be friends with everyone just because you're categorized, you're a tennis player, so you're going to get along with tennis players.\"), (0.058823529411764705, 'I think everyone knows this is my job here.'), (0.058823529411764705, \"I think everyone just thinks because we're tennis players we should be the greatest of friends.\"), (0.058823529411764705, 'I think every person has different interests.'), (0.058823529411764705, \"I say my hellos, but I'm not sending any players flowers as well.\"), (0.058823529411764705, \"I have not a lot of friends away from the courts.'\"), (0.058823529411764705, \"I have friends that have completely different jobs and interests, and I've met them in very different parts of my life.\"), (0.058823529411764705, 'But ultimately tennis is just a very small part of what we do.'), (0.058823529411764705, \"'No, not at all.\")]\n",
      "ARTICLE 1:\n",
      "Maria Sharapova has basically no friends as tennis players on the WTA Tour. The Russian player has no problems in openly speaking about it and in a recent interview she said: 'I don't really hide any feelings too much. I think everyone knows this is my job here. When I'm on the courts or when I'm on the court playing, I'm a competitor and I want to beat every single person whether they're in the locker room or across the net.So I'm not the one to strike up a conversation about the weather and know that in the next few minutes I have to go and try to win a tennis match. I'm a pretty competitive girl. I say my hellos, but I'm not sending any players flowers as well. Uhm, I'm not really friendly or close to many players. I have not a lot of friends away from the courts.' When she said she is not really close to a lot of players, is that something strategic that she is doing? Is it different on the men's tour than the women's tour? 'No, not at all. I think just because you're in the same sport doesn't mean that you have to be friends with everyone just because you're categorized, you're a tennis player, so you're going to get along with tennis players. I think every person has different interests. I have friends that have completely different jobs and interests, and I've met them in very different parts of my life. I think everyone just thinks because we're tennis players we should be the greatest of friends. But ultimately tennis is just a very small part of what we do. There are so many other things that we're interested in, that we do.'\n",
      "\n",
      "\n",
      "SUMMARY:\n",
      "When she said she is not really close to a lot of players, is that something strategic that she is doing?\n",
      "When I'm on the courts or when I'm on the court playing, I'm a competitor and I want to beat every single person whether they're in the locker room or across the net.So I'm not the one to strike up a conversation about the weather and know that in the next few minutes I have to go and try to win a tennis match.\n",
      "Uhm, I'm not really friendly or close to many players.\n",
      "There are so many other things that we're interested in, that we do.'\n",
      "The Russian player has no problems in openly speaking about it and in a recent interview she said: 'I don't really hide any feelings too much.\n",
      "\n",
      "----------------------------------------------------------------------------------------------------\n",
      "\n",
      "[(0.08333333333333333, 'The Romanian aims for a first title after arriving at Basel without a career win over a top-10 opponent.'), (0.08333333333333333, 'Seeking a ninth title at his hometown event, and a 99th overall, Federer will play 93th-ranked Marius Copil on Sunday.'), (0.08333333333333333, \"He then dropped his serve to love, and let another match point slip in Medvedev's next service game by netting a backhand.\"), (0.08333333333333333, 'He clinched on his fourth chance when Medvedev netted from the baseline.'), (0.08333333333333333, \"He came through two rounds of qualifying last weekend to reach the Basel main draw, including beating Zverev's older brother, Mischa.\"), (0.08333333333333333, 'Federer had an easier time than in his only previous match against Medvedev, a three-setter at Shanghai two weeks ago.'), (0.08333333333333333, 'Federer dominated the 20th-ranked Medvedev and had his first match-point chance to break serve again at 5-1.'), (0.08333333333333333, 'Copil upset expectations of a Federer final against Alexander Zverev in a 6-3, 6-7 (6), 6-4 win over the fifth-ranked German in the earlier semifinal.'), (0.08333333333333333, 'Copil has two after also beating No.'), (0.08333333333333333, 'Copil fired 26 aces past Zverev and never dropped serve, clinching after 2 1/2 hours with a forehand volley winner to break Zverev for the second time in the semifinal.'), (0.08333333333333333, 'BASEL, Switzerland (AP), Roger Federer advanced to the 14th Swiss Indoors final of his career by beating seventh-seeded Daniil Medvedev 6-1, 6-4 on Saturday.'), (0.08333333333333333, '6 Marin Cilic in the second round.')]\n",
      "ARTICLE 2:\n",
      "BASEL, Switzerland (AP), Roger Federer advanced to the 14th Swiss Indoors final of his career by beating seventh-seeded Daniil Medvedev 6-1, 6-4 on Saturday. Seeking a ninth title at his hometown event, and a 99th overall, Federer will play 93th-ranked Marius Copil on Sunday. Federer dominated the 20th-ranked Medvedev and had his first match-point chance to break serve again at 5-1. He then dropped his serve to love, and let another match point slip in Medvedev's next service game by netting a backhand. He clinched on his fourth chance when Medvedev netted from the baseline. Copil upset expectations of a Federer final against Alexander Zverev in a 6-3, 6-7 (6), 6-4 win over the fifth-ranked German in the earlier semifinal. The Romanian aims for a first title after arriving at Basel without a career win over a top-10 opponent. Copil has two after also beating No. 6 Marin Cilic in the second round. Copil fired 26 aces past Zverev and never dropped serve, clinching after 2 1/2 hours with a forehand volley winner to break Zverev for the second time in the semifinal. He came through two rounds of qualifying last weekend to reach the Basel main draw, including beating Zverev's older brother, Mischa. Federer had an easier time than in his only previous match against Medvedev, a three-setter at Shanghai two weeks ago.\n",
      "\n",
      "\n",
      "SUMMARY:\n",
      "The Romanian aims for a first title after arriving at Basel without a career win over a top-10 opponent.\n",
      "Seeking a ninth title at his hometown event, and a 99th overall, Federer will play 93th-ranked Marius Copil on Sunday.\n",
      "He then dropped his serve to love, and let another match point slip in Medvedev's next service game by netting a backhand.\n",
      "He clinched on his fourth chance when Medvedev netted from the baseline.\n",
      "He came through two rounds of qualifying last weekend to reach the Basel main draw, including beating Zverev's older brother, Mischa.\n",
      "\n",
      "----------------------------------------------------------------------------------------------------\n",
      "\n",
      "[(0.058823529411764705, 'We will see what happens,\" he said.'), (0.058823529411764705, 'This was designed for the future generation of players.\"'), (0.058823529411764705, 'The competition is set to feature 18 countries in the November 18-24 finals in Madrid next year, and will replace the classic home-and-away ties played four times per year for decades.'), (0.058823529411764705, 'The 20-time Grand Slam champion has voiced doubts about the wisdom of the one-week format to be introduced by organisers Kosmos, who have promised the International Tennis Federation up to $3 billion in prize money over the next quarter-century.'), (0.058823529411764705, 'Speaking at the Swiss Indoors tournament where he will play in Sundays final against Romanian qualifier Marius Copil, the world number three said that given the impossibly short time frame to make a decision, he opted out of any commitment.'), (0.058823529411764705, 'Roger Federer has revealed that organisers of the re-launched and condensed Davis Cup gave him three days to decide if he would commit to the controversial competition.'), (0.058823529411764705, \"Novak Djokovic has said he will give precedence to the ATP's intended re-launch of the defunct World Team Cup in January 2020, at various Australian venues.\"), (0.058823529411764705, 'Major players feel that a big event in late November combined with one in January before the Australian Open will mean too much tennis and too little rest.'), (0.058823529411764705, 'Kosmos is headed by Barcelona footballer Gerard Pique, who is hoping fellow Spaniard Rafael Nadal will play in the upcoming event.'), (0.058823529411764705, 'Federer said earlier this month in Shanghai in that his chances of playing the Davis Cup were all but non-existent.'), (0.058823529411764705, 'Argentina and Britain received wild cards to the new-look event, and will compete along with the four 2018 semi-finalists and the 12 teams who win qualifying rounds next February.'), (0.058823529411764705, '\"They only left me three days to decide\", Federer said.'), (0.058823529411764705, '\"I highly doubt it, of course.'), (0.058823529411764705, '\"I don\\'t like being under that kind of pressure,\" Federer said of the deadline Kosmos handed him.'), (0.058823529411764705, '\"I do not think this was designed for me, anyhow.'), (0.058823529411764705, '\"I didn\\'t to have time to consult with all the people I had to consult.'), (0.058823529411764705, '\"I could not make a decision in that time, so I told them to do what they wanted.\"')]\n",
      "ARTICLE 3:\n",
      "Roger Federer has revealed that organisers of the re-launched and condensed Davis Cup gave him three days to decide if he would commit to the controversial competition. Speaking at the Swiss Indoors tournament where he will play in Sundays final against Romanian qualifier Marius Copil, the world number three said that given the impossibly short time frame to make a decision, he opted out of any commitment. \"They only left me three days to decide\", Federer said. \"I didn't to have time to consult with all the people I had to consult. \"I could not make a decision in that time, so I told them to do what they wanted.\" The 20-time Grand Slam champion has voiced doubts about the wisdom of the one-week format to be introduced by organisers Kosmos, who have promised the International Tennis Federation up to $3 billion in prize money over the next quarter-century. The competition is set to feature 18 countries in the November 18-24 finals in Madrid next year, and will replace the classic home-and-away ties played four times per year for decades. Kosmos is headed by Barcelona footballer Gerard Pique, who is hoping fellow Spaniard Rafael Nadal will play in the upcoming event. Novak Djokovic has said he will give precedence to the ATP's intended re-launch of the defunct World Team Cup in January 2020, at various Australian venues. Major players feel that a big event in late November combined with one in January before the Australian Open will mean too much tennis and too little rest. Federer said earlier this month in Shanghai in that his chances of playing the Davis Cup were all but non-existent. \"I highly doubt it, of course. We will see what happens,\" he said. \"I do not think this was designed for me, anyhow. This was designed for the future generation of players.\" Argentina and Britain received wild cards to the new-look event, and will compete along with the four 2018 semi-finalists and the 12 teams who win qualifying rounds next February. \"I don't like being under that kind of pressure,\" Federer said of the deadline Kosmos handed him.\n",
      "\n",
      "\n",
      "SUMMARY:\n",
      "We will see what happens,\" he said.\n",
      "This was designed for the future generation of players.\"\n",
      "The competition is set to feature 18 countries in the November 18-24 finals in Madrid next year, and will replace the classic home-and-away ties played four times per year for decades.\n",
      "The 20-time Grand Slam champion has voiced doubts about the wisdom of the one-week format to be introduced by organisers Kosmos, who have promised the International Tennis Federation up to $3 billion in prize money over the next quarter-century.\n",
      "Speaking at the Swiss Indoors tournament where he will play in Sundays final against Romanian qualifier Marius Copil, the world number three said that given the impossibly short time frame to make a decision, he opted out of any commitment.\n",
      "\n",
      "----------------------------------------------------------------------------------------------------\n",
      "\n",
      "[(0.07692307692307691, 'With a victory on Sunday, Anderson will qualify for the ATP Finals.'), (0.07692307692307691, 'The second-seeded Anderson defeated Fernando Verdasco 6-3, 3-6, 6-4.'), (0.07692307692307691, 'The fifth-seeded Nishikori reached his third final of 2018 after beating Mikhail Kukushkin of Kazakhstan 6-4, 6-3 in the semifinals.'), (0.07692307692307691, \"The Spaniard broke Anderson twice in the second but didn't get another chance on the South African's serve in the final set.\"), (0.07692307692307691, 'Nishikori leads Anderson 4-2 on career matchups, but the South African won their only previous meeting this year.'), (0.07692307692307691, 'Nishikori held serve throughout against Kukushkin, who came through qualifying.'), (0.07692307692307691, 'Kei Nishikori will try to end his long losing streak in ATP finals and Kevin Anderson will go for his second title of the year at the Erste Bank Open on Sunday.'), (0.07692307692307691, 'He used his first break point to close out the first set before going up 3-0 in the second and wrapping up the win on his first match point.'), (0.07692307692307691, 'He has lost eight straight finals since.'), (0.07692307692307691, 'Currently in ninth place, Nishikori with a win could move to within 125 points of the cut for the eight-man event in London next month.'), (0.07692307692307691, 'Anderson has a shot at a fifth career title and second of the year after winning in New York in February.'), (0.07692307692307691, 'Against Verdasco, Anderson hit nine of his 19 aces in the opening set.'), (0.07692307692307691, \"A winner of 11 ATP events, Nishikori hasn't triumphed since winning in Memphis in February 2016.\")]\n",
      "ARTICLE 4:\n",
      "Kei Nishikori will try to end his long losing streak in ATP finals and Kevin Anderson will go for his second title of the year at the Erste Bank Open on Sunday. The fifth-seeded Nishikori reached his third final of 2018 after beating Mikhail Kukushkin of Kazakhstan 6-4, 6-3 in the semifinals. A winner of 11 ATP events, Nishikori hasn't triumphed since winning in Memphis in February 2016. He has lost eight straight finals since. The second-seeded Anderson defeated Fernando Verdasco 6-3, 3-6, 6-4. Anderson has a shot at a fifth career title and second of the year after winning in New York in February. Nishikori leads Anderson 4-2 on career matchups, but the South African won their only previous meeting this year. With a victory on Sunday, Anderson will qualify for the ATP Finals. Currently in ninth place, Nishikori with a win could move to within 125 points of the cut for the eight-man event in London next month. Nishikori held serve throughout against Kukushkin, who came through qualifying. He used his first break point to close out the first set before going up 3-0 in the second and wrapping up the win on his first match point. Against Verdasco, Anderson hit nine of his 19 aces in the opening set. The Spaniard broke Anderson twice in the second but didn't get another chance on the South African's serve in the final set.\n",
      "\n",
      "\n",
      "SUMMARY:\n",
      "With a victory on Sunday, Anderson will qualify for the ATP Finals.\n",
      "The second-seeded Anderson defeated Fernando Verdasco 6-3, 3-6, 6-4.\n",
      "The fifth-seeded Nishikori reached his third final of 2018 after beating Mikhail Kukushkin of Kazakhstan 6-4, 6-3 in the semifinals.\n",
      "The Spaniard broke Anderson twice in the second but didn't get another chance on the South African's serve in the final set.\n",
      "Nishikori leads Anderson 4-2 on career matchups, but the South African won their only previous meeting this year.\n",
      "\n",
      "----------------------------------------------------------------------------------------------------\n",
      "\n",
      "[(0.055555555555555566, 'This is where the first rounds can be tricky.\"'), (0.055555555555555566, 'The 20-time Grand Slam winner is chasing his 99th ATP title at the Swiss Indoors this week and he faces Jan-Lennard Struff in the second round on Thursday (6pm BST).'), (0.055555555555555566, 'Meanwhile, Federer is hoping he can improve his service game as he hunts his ninth Swiss Indoors title this week.'), (0.055555555555555566, \"It's just getting used to it.\"), (0.055555555555555566, 'Federer, 37, first broke through on tour over two decades ago and he has since gone on to enjoy a glittering career.'), (0.055555555555555566, 'Davenport enjoyed most of her success in the late 1990s and her third and final major tournament win came at the 2000 Australian Open.'), (0.055555555555555566, 'But she claims the mentality of professional tennis players slowly began to change after the new millennium.'), (0.055555555555555566, '\"Not always, but I really feel like in the mid-2000 years there was a huge shift of the attitudes of the top players and being more friendly and being more giving, and a lot of that had to do with players like Roger coming up.'), (0.055555555555555566, '\"It\\'s a very pleasant atmosphere, I\\'d have to say, around the locker rooms.'), (0.055555555555555566, '\"It seems pretty friendly right now,\" said Davenport.'), (0.055555555555555566, '\"I think there is a really nice environment and a great atmosphere, especially between some of the veteran players helping some of the younger players out.'), (0.055555555555555566, '\"I think I was misfiring the corners, I was not hitting the lines enough.'), (0.055555555555555566, '\"I just felt like it really kind of changed where people were a little bit, definitely in the 90s, a lot more quiet, into themselves, and then it started to become better.\"'), (0.055555555555555566, '\"I felt like the best weeks that I had to get to know players when I was playing were the Fed Cup weeks or the Olympic weeks, not necessarily during the tournaments.'), (0.055555555555555566, '\"I didn\\'t serve very well [against first-round opponent Filip Kranjovic,\" Federer said.'), (0.055555555555555566, '\"Clearly you make your life more difficult, but still I was up 6-2, 3-1, break points, so things could have ended very quickly today, even though I didn\\'t have the best serve percentage stats.'), (0.055555555555555566, '\"But maybe that\\'s exactly what caught up to me eventually.'), (0.055555555555555566, '\"And even though maybe we had smaller teams, I still think we kept to ourselves quite a bit.')]\n",
      "ARTICLE 5:\n",
      "Federer, 37, first broke through on tour over two decades ago and he has since gone on to enjoy a glittering career. The 20-time Grand Slam winner is chasing his 99th ATP title at the Swiss Indoors this week and he faces Jan-Lennard Struff in the second round on Thursday (6pm BST). Davenport enjoyed most of her success in the late 1990s and her third and final major tournament win came at the 2000 Australian Open. But she claims the mentality of professional tennis players slowly began to change after the new millennium. \"It seems pretty friendly right now,\" said Davenport. \"I think there is a really nice environment and a great atmosphere, especially between some of the veteran players helping some of the younger players out. \"It's a very pleasant atmosphere, I'd have to say, around the locker rooms. \"I felt like the best weeks that I had to get to know players when I was playing were the Fed Cup weeks or the Olympic weeks, not necessarily during the tournaments. \"And even though maybe we had smaller teams, I still think we kept to ourselves quite a bit. \"Not always, but I really feel like in the mid-2000 years there was a huge shift of the attitudes of the top players and being more friendly and being more giving, and a lot of that had to do with players like Roger coming up. \"I just felt like it really kind of changed where people were a little bit, definitely in the 90s, a lot more quiet, into themselves, and then it started to become better.\" Meanwhile, Federer is hoping he can improve his service game as he hunts his ninth Swiss Indoors title this week. \"I didn't serve very well [against first-round opponent Filip Kranjovic,\" Federer said. \"I think I was misfiring the corners, I was not hitting the lines enough. \"Clearly you make your life more difficult, but still I was up 6-2, 3-1, break points, so things could have ended very quickly today, even though I didn't have the best serve percentage stats. \"But maybe that's exactly what caught up to me eventually. It's just getting used to it. This is where the first rounds can be tricky.\"\n",
      "\n",
      "\n",
      "SUMMARY:\n",
      "This is where the first rounds can be tricky.\"\n",
      "The 20-time Grand Slam winner is chasing his 99th ATP title at the Swiss Indoors this week and he faces Jan-Lennard Struff in the second round on Thursday (6pm BST).\n",
      "Meanwhile, Federer is hoping he can improve his service game as he hunts his ninth Swiss Indoors title this week.\n",
      "It's just getting used to it.\n",
      "Federer, 37, first broke through on tour over two decades ago and he has since gone on to enjoy a glittering career.\n",
      "\n",
      "----------------------------------------------------------------------------------------------------\n",
      "\n",
      "[(0.08333333333333333, \"The world No 1 has been forced to miss Spain's Davis Cup clash with France and the Asian hard court season.\"), (0.08333333333333333, 'The Paris Masters draw has been made and Nadal will start his campaign on Tuesday or Wednesday against either Fernando Verdasco or Jeremy Chardy.'), (0.08333333333333333, \"Nadal's appearance in Paris is a big boost to the tournament organisers who could see Roger Federer withdraw.\"), (0.08333333333333333, 'Nadal has not played tennis since he was forced to retire from the US Open semi-finals against Juan Martin Del Porto with a knee injury.'), (0.08333333333333333, 'Nadal flew to Paris on Friday and footage from the Paris Masters official Twitter account shows the Spaniard smiling as he strides onto court for practice.'), (0.08333333333333333, 'Nadal could then play defending champion Jack Sock in the third round before a potential quarter-final with either Borna Coric or Dominic Thiem.'), (0.08333333333333333, \"Federer's projected route to the Paris final could also lead to matches against Kevin Anderson and Novak Djokovic.\"), (0.08333333333333333, 'Federer is in action at the Swiss Indoors in Basel and if he reaches the final, he could pull out of Paris in a bid to stay fresh for London.'), (0.08333333333333333, 'Djokovic could play Marco Cecchinato in the second round.'), (0.08333333333333333, 'But with the ATP World Tour Finals due to begin next month, Nadal is ready to prove his fitness before the season-ending event at the 02 Arena.'), (0.08333333333333333, 'But as it stands, Federer is in the draw and is scheduled to face either former world No 3 Milos Raonic or Jo-Wilfried Tsonga in the second round.'), (0.08333333333333333, 'British No 1 Kyle Edmund is the 12th seed in Paris and will get underway in round two against either Karen Khachanov or Filip Krajinovic.')]\n",
      "ARTICLE 6:\n",
      "Nadal has not played tennis since he was forced to retire from the US Open semi-finals against Juan Martin Del Porto with a knee injury. The world No 1 has been forced to miss Spain's Davis Cup clash with France and the Asian hard court season. But with the ATP World Tour Finals due to begin next month, Nadal is ready to prove his fitness before the season-ending event at the 02 Arena. Nadal flew to Paris on Friday and footage from the Paris Masters official Twitter account shows the Spaniard smiling as he strides onto court for practice. The Paris Masters draw has been made and Nadal will start his campaign on Tuesday or Wednesday against either Fernando Verdasco or Jeremy Chardy. Nadal could then play defending champion Jack Sock in the third round before a potential quarter-final with either Borna Coric or Dominic Thiem. Nadal's appearance in Paris is a big boost to the tournament organisers who could see Roger Federer withdraw. Federer is in action at the Swiss Indoors in Basel and if he reaches the final, he could pull out of Paris in a bid to stay fresh for London. But as it stands, Federer is in the draw and is scheduled to face either former world No 3 Milos Raonic or Jo-Wilfried Tsonga in the second round. Federer's projected route to the Paris final could also lead to matches against Kevin Anderson and Novak Djokovic. Djokovic could play Marco Cecchinato in the second round. British No 1 Kyle Edmund is the 12th seed in Paris and will get underway in round two against either Karen Khachanov or Filip Krajinovic.\n",
      "\n",
      "\n",
      "SUMMARY:\n",
      "The world No 1 has been forced to miss Spain's Davis Cup clash with France and the Asian hard court season.\n",
      "The Paris Masters draw has been made and Nadal will start his campaign on Tuesday or Wednesday against either Fernando Verdasco or Jeremy Chardy.\n",
      "Nadal's appearance in Paris is a big boost to the tournament organisers who could see Roger Federer withdraw.\n",
      "Nadal has not played tennis since he was forced to retire from the US Open semi-finals against Juan Martin Del Porto with a knee injury.\n",
      "Nadal flew to Paris on Friday and footage from the Paris Masters official Twitter account shows the Spaniard smiling as he strides onto court for practice.\n",
      "\n",
      "----------------------------------------------------------------------------------------------------\n",
      "\n",
      "[(0.09999999999999999, 'Two players, Stefanos Tsitsipas and Kyle Edmund, won their first career ATP titles last week (13:26).'), (0.09999999999999999, 'The end of the season is finally in sight, and with so many players defending,or losing,huge chunks of points in Singapore, Zhuhai and London, podcast co-hosts Nina Pantic and Irina Falconi discuss the art of defending points (02:14).'), (0.09999999999999999, 'Tennis giveth, and tennis taketh away.'), (0.09999999999999999, 'Nina and Irina give their opinions on what coaching should look like in the future, on both tours (18:55).'), (0.09999999999999999, \"Let's also not forget his two Grand Slam doubles triumphs this season.\"), (0.09999999999999999, \"It's no secret that Jack Sock has struggled on the singles court this year (his record is 7-19).\"), (0.09999999999999999, \"It's a big deal because you never forget your first.\"), (0.09999999999999999, 'Irina looks back at her WTA title win in Bogota in 2016, and tells an unforgettable story about her semifinal drama (14:04).'), (0.09999999999999999, 'In Singapore, one of the biggest storylines (aside from the matches, of course) has been the on-court coaching debate.'), (0.09999999999999999, 'He could lose 1,400 points in the next few weeks, but instead of focusing on the negative, it can all be about perspective (06:28).')]\n",
      "ARTICLE 7:\n",
      "Tennis giveth, and tennis taketh away. The end of the season is finally in sight, and with so many players defending,or losing,huge chunks of points in Singapore, Zhuhai and London, podcast co-hosts Nina Pantic and Irina Falconi discuss the art of defending points (02:14). It's no secret that Jack Sock has struggled on the singles court this year (his record is 7-19). He could lose 1,400 points in the next few weeks, but instead of focusing on the negative, it can all be about perspective (06:28). Let's also not forget his two Grand Slam doubles triumphs this season. Two players, Stefanos Tsitsipas and Kyle Edmund, won their first career ATP titles last week (13:26). It's a big deal because you never forget your first. Irina looks back at her WTA title win in Bogota in 2016, and tells an unforgettable story about her semifinal drama (14:04). In Singapore, one of the biggest storylines (aside from the matches, of course) has been the on-court coaching debate. Nina and Irina give their opinions on what coaching should look like in the future, on both tours (18:55).\n",
      "\n",
      "\n",
      "SUMMARY:\n",
      "Two players, Stefanos Tsitsipas and Kyle Edmund, won their first career ATP titles last week (13:26).\n",
      "The end of the season is finally in sight, and with so many players defending,or losing,huge chunks of points in Singapore, Zhuhai and London, podcast co-hosts Nina Pantic and Irina Falconi discuss the art of defending points (02:14).\n",
      "Tennis giveth, and tennis taketh away.\n",
      "Nina and Irina give their opinions on what coaching should look like in the future, on both tours (18:55).\n",
      "Let's also not forget his two Grand Slam doubles triumphs this season.\n",
      "\n",
      "----------------------------------------------------------------------------------------------------\n",
      "\n",
      "[(0.05000000000000001, 'The 37-year-old claimed his 99th ATP title and is hunting the century in the French capital this week.'), (0.05000000000000001, 'It makes me incredibly happy to win my home tournament and make people happy here.'), (0.05000000000000001, \"Federer's success in Basel last week was the ninth time he has won his hometown tournament.\"), (0.05000000000000001, 'Federer won the Swiss Indoors last week by beating Romanian qualifier Marius Copil in the final.'), (0.05000000000000001, 'Federer has been handed a difficult draw where could could come across Kevin Anderson, Novak Djokovic and Rafael Nadal in the latter rounds.'), (0.05000000000000001, 'But first the 20-time Grand Slam winner wants to train on the Paris Masters court this afternoon before deciding whether to appear for his opening match against either Milos Raonic or Jo-Wilfried Tsonga.'), (0.05000000000000001, 'Because it was not always easy in the last weeks.\"'), (0.05000000000000001, 'And sometimes it tilts with the emotions, sometimes I just stumble.'), (0.05000000000000001, 'And he was delighted to be watched on by all of his family and friends as he purchased 60 tickets for the final for those dearest to him.'), (0.05000000000000001, '\"We also had the impression that at this stage it might be better to play matches than to train.'), (0.05000000000000001, '\"There are very touching moments: seeing the ball children, the standing ovations, all the familiar faces in the audience.'), (0.05000000000000001, '\"On Tuesday I will fly to Paris and train in the afternoon to be ready for my first match on Wednesday night.'), (0.05000000000000001, '\"On Monday, I am free and will look how I feel,\" Federer said after winning the Swiss Indoors.'), (0.05000000000000001, '\"My children, my parents, my sister and my team are all there,\" Federer added.'), (0.05000000000000001, '\"Maybe I should celebrate as if it were my last title.'), (0.05000000000000001, '\"It means the world to me.'), (0.05000000000000001, '\"It is always very emotional for me to thank my team.'), (0.05000000000000001, '\"I felt good all week and better every day.'), (0.05000000000000001, '\"I do not know if it\\'s maybe my last title, so today I try a lot more to absorb that and enjoy the moments much more consciously.'), (0.05000000000000001, '\"And as long as I fear no injury, I play.\"')]\n",
      "ARTICLE 8:\n",
      "Federer won the Swiss Indoors last week by beating Romanian qualifier Marius Copil in the final. The 37-year-old claimed his 99th ATP title and is hunting the century in the French capital this week. Federer has been handed a difficult draw where could could come across Kevin Anderson, Novak Djokovic and Rafael Nadal in the latter rounds. But first the 20-time Grand Slam winner wants to train on the Paris Masters court this afternoon before deciding whether to appear for his opening match against either Milos Raonic or Jo-Wilfried Tsonga. \"On Monday, I am free and will look how I feel,\" Federer said after winning the Swiss Indoors. \"On Tuesday I will fly to Paris and train in the afternoon to be ready for my first match on Wednesday night. \"I felt good all week and better every day. \"We also had the impression that at this stage it might be better to play matches than to train. \"And as long as I fear no injury, I play.\" Federer's success in Basel last week was the ninth time he has won his hometown tournament. And he was delighted to be watched on by all of his family and friends as he purchased 60 tickets for the final for those dearest to him. \"My children, my parents, my sister and my team are all there,\" Federer added. \"It is always very emotional for me to thank my team. And sometimes it tilts with the emotions, sometimes I just stumble. \"It means the world to me. It makes me incredibly happy to win my home tournament and make people happy here. \"I do not know if it's maybe my last title, so today I try a lot more to absorb that and enjoy the moments much more consciously. \"Maybe I should celebrate as if it were my last title. \"There are very touching moments: seeing the ball children, the standing ovations, all the familiar faces in the audience. Because it was not always easy in the last weeks.\"\n",
      "\n",
      "\n",
      "SUMMARY:\n",
      "The 37-year-old claimed his 99th ATP title and is hunting the century in the French capital this week.\n",
      "It makes me incredibly happy to win my home tournament and make people happy here.\n",
      "Federer's success in Basel last week was the ninth time he has won his hometown tournament.\n",
      "Federer won the Swiss Indoors last week by beating Romanian qualifier Marius Copil in the final.\n",
      "Federer has been handed a difficult draw where could could come across Kevin Anderson, Novak Djokovic and Rafael Nadal in the latter rounds.\n",
      "\n",
      "----------------------------------------------------------------------------------------------------\n",
      "\n"
     ]
    }
   ],
   "source": [
    "# Loop Through Each Article in the DataFrame\n",
    "for idx,article in enumerate(df['article_text']):\n",
    "    #print(idx , article)\n",
    "\n",
    "    # 1. TOKENIZING THE SENTENCES : converting each text(many sentences) of the para into a separate sentences\n",
    "    sentence = sent_tokenize(article)\n",
    "    #print(sentence)\n",
    "\n",
    "    # 2. Clean the data : remove everything other than aplhabets , convert into smaller aplhabets and remove all the stop words\n",
    "    \n",
    "    # 2.1 remove everything other than aplhabets\n",
    "    clean_sentences = pd.Series(sentence).str.replace(\"[^a-zA-Z]\", \" \" , regex=True)\n",
    "    #print(clean_sentences)\n",
    "    \n",
    "    # 2.2 convert into smaller aplhabets\n",
    "    clean_sentences = [s.lower() for s in clean_sentences]\n",
    "    #print(clean_sentences)\n",
    "\n",
    "    ######################################## FOR UNDESTANDING ONLY\n",
    "    # for s in clean_sentences:\n",
    "    #       print(s)\n",
    "    ########################################\n",
    "\n",
    "    #2.3 remove all the stop words\n",
    "    clean_sentences = [remove_stopwords(s.split()) for s in clean_sentences]\n",
    "    #print(clean_sentences)\n",
    "\n",
    "    # 3. **Create Sentence Vectors**  : to convert text into number for system to read\n",
    "    w_d = {}\n",
    "    sentence_vectors = []\n",
    "    for i in clean_sentences:\n",
    "        if len(i) != 0:\n",
    "            v = sum([w_d.get(w, np.zeros((100,))) for w in i.split()]) / (len(i.split()) + 0.001)\n",
    "        else:\n",
    "            v = np.zeros((100,))\n",
    "        sentence_vectors.append(v)\n",
    "        #print(sentence_vectors)\n",
    "        \n",
    "    # 4. **Create Similarity Matrix**  : just 2 check similarities between sentences\n",
    "    sim_mat = np.zeros([len(sentence) , len(sentence)])\n",
    "    for i in range(len(sentence)):\n",
    "        for j in range(len(sentence)):\n",
    "            if i!= j:\n",
    "                sim_mat[i][j] = cosine_similarity(sentence_vectors[i].reshape(1,100),\n",
    "                                       sentence_vectors[j].reshape(1,100))[0,0]\n",
    "                #print(sim_mat[i][j])\n",
    "\n",
    "    # 5. **Build Graph and Apply PageRank**\n",
    "    nx_graph = nx.from_numpy_array(sim_mat)\n",
    "    scores = nx.pagerank(nx_graph)\n",
    "    #print(scores)\n",
    "    \n",
    "    # 6. **Rank Sentences**\n",
    "    ranked_sentences = sorted(((scores[i], s) for i, s in enumerate(sentence)), reverse=True)\n",
    "    print(ranked_sentences)\n",
    "\n",
    "        # 7. **Print Article and Summary**\n",
    "    print(f\"ARTICLE {idx + 1}:\")\n",
    "    print(article)\n",
    "    print('\\n')\n",
    "    print(\"SUMMARY:\")\n",
    "    for i in range(5):  # Print Top 5 Sentences as Summary\n",
    "        print(ranked_sentences[i][1])\n",
    "    print('\\n' + '-' * 100 + '\\n')\n",
    "\n",
    "\n",
    "    \n",
    "    \n",
    "    \n",
    "    \n",
    "    "
   ]
  },
  {
   "cell_type": "code",
   "execution_count": null,
   "id": "3dda559d-31ff-4276-bb0f-78629486fe69",
   "metadata": {},
   "outputs": [],
   "source": [
    "    "
   ]
  },
  {
   "cell_type": "code",
   "execution_count": null,
   "id": "7c1f23e6-04fb-4d27-86ff-26900f7799de",
   "metadata": {},
   "outputs": [],
   "source": []
  },
  {
   "cell_type": "code",
   "execution_count": null,
   "id": "d81c050f-3195-4c4a-8009-ce9361920374",
   "metadata": {},
   "outputs": [],
   "source": []
  }
 ],
 "metadata": {
  "kernelspec": {
   "display_name": "Python [conda env:base] *",
   "language": "python",
   "name": "conda-base-py"
  },
  "language_info": {
   "codemirror_mode": {
    "name": "ipython",
    "version": 3
   },
   "file_extension": ".py",
   "mimetype": "text/x-python",
   "name": "python",
   "nbconvert_exporter": "python",
   "pygments_lexer": "ipython3",
   "version": "3.12.7"
  }
 },
 "nbformat": 4,
 "nbformat_minor": 5
}
